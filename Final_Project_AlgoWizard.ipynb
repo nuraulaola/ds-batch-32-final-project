{
  "cells": [
    {
      "cell_type": "markdown",
      "metadata": {
        "id": "EKBg5vJuKIXX"
      },
      "source": [
        "# 1. Import Libraries"
      ]
    },
    {
      "cell_type": "code",
      "execution_count": 1,
      "metadata": {
        "colab": {
          "base_uri": "https://localhost:8080/"
        },
        "id": "fBhfcv-nJgAE",
        "outputId": "cb3c7343-b95f-46d8-b2de-83f9d66958d4"
      },
      "outputs": [
        {
          "output_type": "stream",
          "name": "stdout",
          "text": [
            "Collecting streamlit\n",
            "  Downloading streamlit-1.29.0-py2.py3-none-any.whl (8.4 MB)\n",
            "\u001b[2K     \u001b[90m━━━━━━━━━━━━━━━━━━━━━━━━━━━━━━━━━━━━━━━━\u001b[0m \u001b[32m8.4/8.4 MB\u001b[0m \u001b[31m16.8 MB/s\u001b[0m eta \u001b[36m0:00:00\u001b[0m\n",
            "\u001b[?25hRequirement already satisfied: altair<6,>=4.0 in /usr/local/lib/python3.10/dist-packages (from streamlit) (4.2.2)\n",
            "Requirement already satisfied: blinker<2,>=1.0.0 in /usr/lib/python3/dist-packages (from streamlit) (1.4)\n",
            "Requirement already satisfied: cachetools<6,>=4.0 in /usr/local/lib/python3.10/dist-packages (from streamlit) (5.3.2)\n",
            "Requirement already satisfied: click<9,>=7.0 in /usr/local/lib/python3.10/dist-packages (from streamlit) (8.1.7)\n",
            "Collecting importlib-metadata<7,>=1.4 (from streamlit)\n",
            "  Downloading importlib_metadata-6.11.0-py3-none-any.whl (23 kB)\n",
            "Requirement already satisfied: numpy<2,>=1.19.3 in /usr/local/lib/python3.10/dist-packages (from streamlit) (1.23.5)\n",
            "Requirement already satisfied: packaging<24,>=16.8 in /usr/local/lib/python3.10/dist-packages (from streamlit) (23.2)\n",
            "Requirement already satisfied: pandas<3,>=1.3.0 in /usr/local/lib/python3.10/dist-packages (from streamlit) (1.5.3)\n",
            "Requirement already satisfied: pillow<11,>=7.1.0 in /usr/local/lib/python3.10/dist-packages (from streamlit) (9.4.0)\n",
            "Requirement already satisfied: protobuf<5,>=3.20 in /usr/local/lib/python3.10/dist-packages (from streamlit) (3.20.3)\n",
            "Requirement already satisfied: pyarrow>=6.0 in /usr/local/lib/python3.10/dist-packages (from streamlit) (10.0.1)\n",
            "Requirement already satisfied: python-dateutil<3,>=2.7.3 in /usr/local/lib/python3.10/dist-packages (from streamlit) (2.8.2)\n",
            "Requirement already satisfied: requests<3,>=2.27 in /usr/local/lib/python3.10/dist-packages (from streamlit) (2.31.0)\n",
            "Requirement already satisfied: rich<14,>=10.14.0 in /usr/local/lib/python3.10/dist-packages (from streamlit) (13.7.0)\n",
            "Requirement already satisfied: tenacity<9,>=8.1.0 in /usr/local/lib/python3.10/dist-packages (from streamlit) (8.2.3)\n",
            "Requirement already satisfied: toml<2,>=0.10.1 in /usr/local/lib/python3.10/dist-packages (from streamlit) (0.10.2)\n",
            "Requirement already satisfied: typing-extensions<5,>=4.3.0 in /usr/local/lib/python3.10/dist-packages (from streamlit) (4.5.0)\n",
            "Requirement already satisfied: tzlocal<6,>=1.1 in /usr/local/lib/python3.10/dist-packages (from streamlit) (5.2)\n",
            "Collecting validators<1,>=0.2 (from streamlit)\n",
            "  Downloading validators-0.22.0-py3-none-any.whl (26 kB)\n",
            "Collecting gitpython!=3.1.19,<4,>=3.0.7 (from streamlit)\n",
            "  Downloading GitPython-3.1.40-py3-none-any.whl (190 kB)\n",
            "\u001b[2K     \u001b[90m━━━━━━━━━━━━━━━━━━━━━━━━━━━━━━━━━━━━━━━━\u001b[0m \u001b[32m190.6/190.6 kB\u001b[0m \u001b[31m12.2 MB/s\u001b[0m eta \u001b[36m0:00:00\u001b[0m\n",
            "\u001b[?25hCollecting pydeck<1,>=0.8.0b4 (from streamlit)\n",
            "  Downloading pydeck-0.8.1b0-py2.py3-none-any.whl (4.8 MB)\n",
            "\u001b[2K     \u001b[90m━━━━━━━━━━━━━━━━━━━━━━━━━━━━━━━━━━━━━━━━\u001b[0m \u001b[32m4.8/4.8 MB\u001b[0m \u001b[31m45.1 MB/s\u001b[0m eta \u001b[36m0:00:00\u001b[0m\n",
            "\u001b[?25hRequirement already satisfied: tornado<7,>=6.0.3 in /usr/local/lib/python3.10/dist-packages (from streamlit) (6.3.2)\n",
            "Collecting watchdog>=2.1.5 (from streamlit)\n",
            "  Downloading watchdog-3.0.0-py3-none-manylinux2014_x86_64.whl (82 kB)\n",
            "\u001b[2K     \u001b[90m━━━━━━━━━━━━━━━━━━━━━━━━━━━━━━━━━━━━━━━━\u001b[0m \u001b[32m82.1/82.1 kB\u001b[0m \u001b[31m7.6 MB/s\u001b[0m eta \u001b[36m0:00:00\u001b[0m\n",
            "\u001b[?25hRequirement already satisfied: entrypoints in /usr/local/lib/python3.10/dist-packages (from altair<6,>=4.0->streamlit) (0.4)\n",
            "Requirement already satisfied: jinja2 in /usr/local/lib/python3.10/dist-packages (from altair<6,>=4.0->streamlit) (3.1.2)\n",
            "Requirement already satisfied: jsonschema>=3.0 in /usr/local/lib/python3.10/dist-packages (from altair<6,>=4.0->streamlit) (4.19.2)\n",
            "Requirement already satisfied: toolz in /usr/local/lib/python3.10/dist-packages (from altair<6,>=4.0->streamlit) (0.12.0)\n",
            "Collecting gitdb<5,>=4.0.1 (from gitpython!=3.1.19,<4,>=3.0.7->streamlit)\n",
            "  Downloading gitdb-4.0.11-py3-none-any.whl (62 kB)\n",
            "\u001b[2K     \u001b[90m━━━━━━━━━━━━━━━━━━━━━━━━━━━━━━━━━━━━━━━━\u001b[0m \u001b[32m62.7/62.7 kB\u001b[0m \u001b[31m7.3 MB/s\u001b[0m eta \u001b[36m0:00:00\u001b[0m\n",
            "\u001b[?25hRequirement already satisfied: zipp>=0.5 in /usr/local/lib/python3.10/dist-packages (from importlib-metadata<7,>=1.4->streamlit) (3.17.0)\n",
            "Requirement already satisfied: pytz>=2020.1 in /usr/local/lib/python3.10/dist-packages (from pandas<3,>=1.3.0->streamlit) (2023.3.post1)\n",
            "Requirement already satisfied: six>=1.5 in /usr/local/lib/python3.10/dist-packages (from python-dateutil<3,>=2.7.3->streamlit) (1.16.0)\n",
            "Requirement already satisfied: charset-normalizer<4,>=2 in /usr/local/lib/python3.10/dist-packages (from requests<3,>=2.27->streamlit) (3.3.2)\n",
            "Requirement already satisfied: idna<4,>=2.5 in /usr/local/lib/python3.10/dist-packages (from requests<3,>=2.27->streamlit) (3.6)\n",
            "Requirement already satisfied: urllib3<3,>=1.21.1 in /usr/local/lib/python3.10/dist-packages (from requests<3,>=2.27->streamlit) (2.0.7)\n",
            "Requirement already satisfied: certifi>=2017.4.17 in /usr/local/lib/python3.10/dist-packages (from requests<3,>=2.27->streamlit) (2023.11.17)\n",
            "Requirement already satisfied: markdown-it-py>=2.2.0 in /usr/local/lib/python3.10/dist-packages (from rich<14,>=10.14.0->streamlit) (3.0.0)\n",
            "Requirement already satisfied: pygments<3.0.0,>=2.13.0 in /usr/local/lib/python3.10/dist-packages (from rich<14,>=10.14.0->streamlit) (2.16.1)\n",
            "Collecting smmap<6,>=3.0.1 (from gitdb<5,>=4.0.1->gitpython!=3.1.19,<4,>=3.0.7->streamlit)\n",
            "  Downloading smmap-5.0.1-py3-none-any.whl (24 kB)\n",
            "Requirement already satisfied: MarkupSafe>=2.0 in /usr/local/lib/python3.10/dist-packages (from jinja2->altair<6,>=4.0->streamlit) (2.1.3)\n",
            "Requirement already satisfied: attrs>=22.2.0 in /usr/local/lib/python3.10/dist-packages (from jsonschema>=3.0->altair<6,>=4.0->streamlit) (23.1.0)\n",
            "Requirement already satisfied: jsonschema-specifications>=2023.03.6 in /usr/local/lib/python3.10/dist-packages (from jsonschema>=3.0->altair<6,>=4.0->streamlit) (2023.11.2)\n",
            "Requirement already satisfied: referencing>=0.28.4 in /usr/local/lib/python3.10/dist-packages (from jsonschema>=3.0->altair<6,>=4.0->streamlit) (0.32.0)\n",
            "Requirement already satisfied: rpds-py>=0.7.1 in /usr/local/lib/python3.10/dist-packages (from jsonschema>=3.0->altair<6,>=4.0->streamlit) (0.15.2)\n",
            "Requirement already satisfied: mdurl~=0.1 in /usr/local/lib/python3.10/dist-packages (from markdown-it-py>=2.2.0->rich<14,>=10.14.0->streamlit) (0.1.2)\n",
            "Installing collected packages: watchdog, validators, smmap, importlib-metadata, pydeck, gitdb, gitpython, streamlit\n",
            "  Attempting uninstall: importlib-metadata\n",
            "    Found existing installation: importlib-metadata 7.0.0\n",
            "    Uninstalling importlib-metadata-7.0.0:\n",
            "      Successfully uninstalled importlib-metadata-7.0.0\n",
            "Successfully installed gitdb-4.0.11 gitpython-3.1.40 importlib-metadata-6.11.0 pydeck-0.8.1b0 smmap-5.0.1 streamlit-1.29.0 validators-0.22.0 watchdog-3.0.0\n"
          ]
        }
      ],
      "source": [
        "!pip install streamlit\n",
        "import pandas as pd  # Data manipulation and analysis\n",
        "import numpy as np  # Numerical operations on data\n",
        "import matplotlib.pyplot as plt  # Data visualization\n",
        "import seaborn as sns  # Data visualization\n",
        "\n",
        "from sklearn.preprocessing import StandardScaler  # Perform scaling\n",
        "from sklearn.model_selection import train_test_split  # Split data into training and testing sets\n",
        "\n",
        "# ML model\n",
        "from sklearn.linear_model import LogisticRegression\n",
        "from sklearn.neighbors import KNeighborsClassifier, LocalOutlierFactor\n",
        "from sklearn.tree import DecisionTreeClassifier\n",
        "from lightgbm import LGBMClassifier\n",
        "from sklearn.ensemble import RandomForestClassifier, GradientBoostingClassifier\n",
        "from xgboost import XGBClassifier\n",
        "\n",
        "from sklearn.metrics import accuracy_score, classification_report  # Measure model accuracy and display summary statistics of model performance\n",
        "import streamlit as st  # Model deployment\n",
        "\n",
        "import itertools"
      ]
    },
    {
      "cell_type": "markdown",
      "metadata": {
        "id": "NNhwBNcZKsIU"
      },
      "source": [
        "# 2. Exploratory Data Analysis (EDA) & Data Preprocessing\n",
        "\n",
        "PIC : July, Ola, Osha, Faza"
      ]
    },
    {
      "cell_type": "markdown",
      "metadata": {
        "id": "WCckyQhJLZLi"
      },
      "source": [
        "## 2.1 Read Dataset"
      ]
    },
    {
      "cell_type": "code",
      "execution_count": 2,
      "metadata": {
        "id": "SGAtYPSCF2mG",
        "colab": {
          "base_uri": "https://localhost:8080/",
          "height": 0
        },
        "outputId": "56802e6e-58cb-44fd-cc4c-c658cf1ccf78"
      },
      "outputs": [
        {
          "output_type": "execute_result",
          "data": {
            "text/plain": [
              "   CustomerId  Gender  Age  CreditScore  EstimatedSalary  HasCrCard  Exited\n",
              "0    15634602  Female   42          619        101348.88          1       1\n",
              "1    15647311  Female   41          608        112542.58          0       0\n",
              "2    15619304  Female   42          502        113931.57          1       1\n",
              "3    15701354  Female   39          699         93826.63          0       0\n",
              "4    15737888  Female   43          850         79084.10          1       0"
            ],
            "text/html": [
              "\n",
              "  <div id=\"df-60aa6021-6943-4669-b945-c66f37581335\" class=\"colab-df-container\">\n",
              "    <div>\n",
              "<style scoped>\n",
              "    .dataframe tbody tr th:only-of-type {\n",
              "        vertical-align: middle;\n",
              "    }\n",
              "\n",
              "    .dataframe tbody tr th {\n",
              "        vertical-align: top;\n",
              "    }\n",
              "\n",
              "    .dataframe thead th {\n",
              "        text-align: right;\n",
              "    }\n",
              "</style>\n",
              "<table border=\"1\" class=\"dataframe\">\n",
              "  <thead>\n",
              "    <tr style=\"text-align: right;\">\n",
              "      <th></th>\n",
              "      <th>CustomerId</th>\n",
              "      <th>Gender</th>\n",
              "      <th>Age</th>\n",
              "      <th>CreditScore</th>\n",
              "      <th>EstimatedSalary</th>\n",
              "      <th>HasCrCard</th>\n",
              "      <th>Exited</th>\n",
              "    </tr>\n",
              "  </thead>\n",
              "  <tbody>\n",
              "    <tr>\n",
              "      <th>0</th>\n",
              "      <td>15634602</td>\n",
              "      <td>Female</td>\n",
              "      <td>42</td>\n",
              "      <td>619</td>\n",
              "      <td>101348.88</td>\n",
              "      <td>1</td>\n",
              "      <td>1</td>\n",
              "    </tr>\n",
              "    <tr>\n",
              "      <th>1</th>\n",
              "      <td>15647311</td>\n",
              "      <td>Female</td>\n",
              "      <td>41</td>\n",
              "      <td>608</td>\n",
              "      <td>112542.58</td>\n",
              "      <td>0</td>\n",
              "      <td>0</td>\n",
              "    </tr>\n",
              "    <tr>\n",
              "      <th>2</th>\n",
              "      <td>15619304</td>\n",
              "      <td>Female</td>\n",
              "      <td>42</td>\n",
              "      <td>502</td>\n",
              "      <td>113931.57</td>\n",
              "      <td>1</td>\n",
              "      <td>1</td>\n",
              "    </tr>\n",
              "    <tr>\n",
              "      <th>3</th>\n",
              "      <td>15701354</td>\n",
              "      <td>Female</td>\n",
              "      <td>39</td>\n",
              "      <td>699</td>\n",
              "      <td>93826.63</td>\n",
              "      <td>0</td>\n",
              "      <td>0</td>\n",
              "    </tr>\n",
              "    <tr>\n",
              "      <th>4</th>\n",
              "      <td>15737888</td>\n",
              "      <td>Female</td>\n",
              "      <td>43</td>\n",
              "      <td>850</td>\n",
              "      <td>79084.10</td>\n",
              "      <td>1</td>\n",
              "      <td>0</td>\n",
              "    </tr>\n",
              "  </tbody>\n",
              "</table>\n",
              "</div>\n",
              "    <div class=\"colab-df-buttons\">\n",
              "\n",
              "  <div class=\"colab-df-container\">\n",
              "    <button class=\"colab-df-convert\" onclick=\"convertToInteractive('df-60aa6021-6943-4669-b945-c66f37581335')\"\n",
              "            title=\"Convert this dataframe to an interactive table.\"\n",
              "            style=\"display:none;\">\n",
              "\n",
              "  <svg xmlns=\"http://www.w3.org/2000/svg\" height=\"24px\" viewBox=\"0 -960 960 960\">\n",
              "    <path d=\"M120-120v-720h720v720H120Zm60-500h600v-160H180v160Zm220 220h160v-160H400v160Zm0 220h160v-160H400v160ZM180-400h160v-160H180v160Zm440 0h160v-160H620v160ZM180-180h160v-160H180v160Zm440 0h160v-160H620v160Z\"/>\n",
              "  </svg>\n",
              "    </button>\n",
              "\n",
              "  <style>\n",
              "    .colab-df-container {\n",
              "      display:flex;\n",
              "      gap: 12px;\n",
              "    }\n",
              "\n",
              "    .colab-df-convert {\n",
              "      background-color: #E8F0FE;\n",
              "      border: none;\n",
              "      border-radius: 50%;\n",
              "      cursor: pointer;\n",
              "      display: none;\n",
              "      fill: #1967D2;\n",
              "      height: 32px;\n",
              "      padding: 0 0 0 0;\n",
              "      width: 32px;\n",
              "    }\n",
              "\n",
              "    .colab-df-convert:hover {\n",
              "      background-color: #E2EBFA;\n",
              "      box-shadow: 0px 1px 2px rgba(60, 64, 67, 0.3), 0px 1px 3px 1px rgba(60, 64, 67, 0.15);\n",
              "      fill: #174EA6;\n",
              "    }\n",
              "\n",
              "    .colab-df-buttons div {\n",
              "      margin-bottom: 4px;\n",
              "    }\n",
              "\n",
              "    [theme=dark] .colab-df-convert {\n",
              "      background-color: #3B4455;\n",
              "      fill: #D2E3FC;\n",
              "    }\n",
              "\n",
              "    [theme=dark] .colab-df-convert:hover {\n",
              "      background-color: #434B5C;\n",
              "      box-shadow: 0px 1px 3px 1px rgba(0, 0, 0, 0.15);\n",
              "      filter: drop-shadow(0px 1px 2px rgba(0, 0, 0, 0.3));\n",
              "      fill: #FFFFFF;\n",
              "    }\n",
              "  </style>\n",
              "\n",
              "    <script>\n",
              "      const buttonEl =\n",
              "        document.querySelector('#df-60aa6021-6943-4669-b945-c66f37581335 button.colab-df-convert');\n",
              "      buttonEl.style.display =\n",
              "        google.colab.kernel.accessAllowed ? 'block' : 'none';\n",
              "\n",
              "      async function convertToInteractive(key) {\n",
              "        const element = document.querySelector('#df-60aa6021-6943-4669-b945-c66f37581335');\n",
              "        const dataTable =\n",
              "          await google.colab.kernel.invokeFunction('convertToInteractive',\n",
              "                                                    [key], {});\n",
              "        if (!dataTable) return;\n",
              "\n",
              "        const docLinkHtml = 'Like what you see? Visit the ' +\n",
              "          '<a target=\"_blank\" href=https://colab.research.google.com/notebooks/data_table.ipynb>data table notebook</a>'\n",
              "          + ' to learn more about interactive tables.';\n",
              "        element.innerHTML = '';\n",
              "        dataTable['output_type'] = 'display_data';\n",
              "        await google.colab.output.renderOutput(dataTable, element);\n",
              "        const docLink = document.createElement('div');\n",
              "        docLink.innerHTML = docLinkHtml;\n",
              "        element.appendChild(docLink);\n",
              "      }\n",
              "    </script>\n",
              "  </div>\n",
              "\n",
              "\n",
              "<div id=\"df-ee6c69a2-84c4-45c2-83d3-139b8c0d093e\">\n",
              "  <button class=\"colab-df-quickchart\" onclick=\"quickchart('df-ee6c69a2-84c4-45c2-83d3-139b8c0d093e')\"\n",
              "            title=\"Suggest charts\"\n",
              "            style=\"display:none;\">\n",
              "\n",
              "<svg xmlns=\"http://www.w3.org/2000/svg\" height=\"24px\"viewBox=\"0 0 24 24\"\n",
              "     width=\"24px\">\n",
              "    <g>\n",
              "        <path d=\"M19 3H5c-1.1 0-2 .9-2 2v14c0 1.1.9 2 2 2h14c1.1 0 2-.9 2-2V5c0-1.1-.9-2-2-2zM9 17H7v-7h2v7zm4 0h-2V7h2v10zm4 0h-2v-4h2v4z\"/>\n",
              "    </g>\n",
              "</svg>\n",
              "  </button>\n",
              "\n",
              "<style>\n",
              "  .colab-df-quickchart {\n",
              "      --bg-color: #E8F0FE;\n",
              "      --fill-color: #1967D2;\n",
              "      --hover-bg-color: #E2EBFA;\n",
              "      --hover-fill-color: #174EA6;\n",
              "      --disabled-fill-color: #AAA;\n",
              "      --disabled-bg-color: #DDD;\n",
              "  }\n",
              "\n",
              "  [theme=dark] .colab-df-quickchart {\n",
              "      --bg-color: #3B4455;\n",
              "      --fill-color: #D2E3FC;\n",
              "      --hover-bg-color: #434B5C;\n",
              "      --hover-fill-color: #FFFFFF;\n",
              "      --disabled-bg-color: #3B4455;\n",
              "      --disabled-fill-color: #666;\n",
              "  }\n",
              "\n",
              "  .colab-df-quickchart {\n",
              "    background-color: var(--bg-color);\n",
              "    border: none;\n",
              "    border-radius: 50%;\n",
              "    cursor: pointer;\n",
              "    display: none;\n",
              "    fill: var(--fill-color);\n",
              "    height: 32px;\n",
              "    padding: 0;\n",
              "    width: 32px;\n",
              "  }\n",
              "\n",
              "  .colab-df-quickchart:hover {\n",
              "    background-color: var(--hover-bg-color);\n",
              "    box-shadow: 0 1px 2px rgba(60, 64, 67, 0.3), 0 1px 3px 1px rgba(60, 64, 67, 0.15);\n",
              "    fill: var(--button-hover-fill-color);\n",
              "  }\n",
              "\n",
              "  .colab-df-quickchart-complete:disabled,\n",
              "  .colab-df-quickchart-complete:disabled:hover {\n",
              "    background-color: var(--disabled-bg-color);\n",
              "    fill: var(--disabled-fill-color);\n",
              "    box-shadow: none;\n",
              "  }\n",
              "\n",
              "  .colab-df-spinner {\n",
              "    border: 2px solid var(--fill-color);\n",
              "    border-color: transparent;\n",
              "    border-bottom-color: var(--fill-color);\n",
              "    animation:\n",
              "      spin 1s steps(1) infinite;\n",
              "  }\n",
              "\n",
              "  @keyframes spin {\n",
              "    0% {\n",
              "      border-color: transparent;\n",
              "      border-bottom-color: var(--fill-color);\n",
              "      border-left-color: var(--fill-color);\n",
              "    }\n",
              "    20% {\n",
              "      border-color: transparent;\n",
              "      border-left-color: var(--fill-color);\n",
              "      border-top-color: var(--fill-color);\n",
              "    }\n",
              "    30% {\n",
              "      border-color: transparent;\n",
              "      border-left-color: var(--fill-color);\n",
              "      border-top-color: var(--fill-color);\n",
              "      border-right-color: var(--fill-color);\n",
              "    }\n",
              "    40% {\n",
              "      border-color: transparent;\n",
              "      border-right-color: var(--fill-color);\n",
              "      border-top-color: var(--fill-color);\n",
              "    }\n",
              "    60% {\n",
              "      border-color: transparent;\n",
              "      border-right-color: var(--fill-color);\n",
              "    }\n",
              "    80% {\n",
              "      border-color: transparent;\n",
              "      border-right-color: var(--fill-color);\n",
              "      border-bottom-color: var(--fill-color);\n",
              "    }\n",
              "    90% {\n",
              "      border-color: transparent;\n",
              "      border-bottom-color: var(--fill-color);\n",
              "    }\n",
              "  }\n",
              "</style>\n",
              "\n",
              "  <script>\n",
              "    async function quickchart(key) {\n",
              "      const quickchartButtonEl =\n",
              "        document.querySelector('#' + key + ' button');\n",
              "      quickchartButtonEl.disabled = true;  // To prevent multiple clicks.\n",
              "      quickchartButtonEl.classList.add('colab-df-spinner');\n",
              "      try {\n",
              "        const charts = await google.colab.kernel.invokeFunction(\n",
              "            'suggestCharts', [key], {});\n",
              "      } catch (error) {\n",
              "        console.error('Error during call to suggestCharts:', error);\n",
              "      }\n",
              "      quickchartButtonEl.classList.remove('colab-df-spinner');\n",
              "      quickchartButtonEl.classList.add('colab-df-quickchart-complete');\n",
              "    }\n",
              "    (() => {\n",
              "      let quickchartButtonEl =\n",
              "        document.querySelector('#df-ee6c69a2-84c4-45c2-83d3-139b8c0d093e button');\n",
              "      quickchartButtonEl.style.display =\n",
              "        google.colab.kernel.accessAllowed ? 'block' : 'none';\n",
              "    })();\n",
              "  </script>\n",
              "</div>\n",
              "    </div>\n",
              "  </div>\n"
            ]
          },
          "metadata": {},
          "execution_count": 2
        }
      ],
      "source": [
        "url = \"https://raw.githubusercontent.com/nuraulaola/ds-batch-32-final-project/main/datasets/Dataset1_Customer_Churn.csv\"\n",
        "df = pd.read_csv(url)\n",
        "df.head()"
      ]
    },
    {
      "cell_type": "markdown",
      "source": [
        "Data Description\n",
        "\n",
        "Data Set Story:\n",
        "- Jumlah total baris (10000 entries) dan rentang indeks barisnya (dari 0 hingga 9999) serta memiliki total 7 kolom.  \n",
        "- Variabel independen adalah Gender, Age, CreditScore, EstimatedSalary, HasCrCard yang berisi informasi tentang pelanggan.\n",
        "- Variabel dependen adalah Exited yang mengacu pada pelanggan yang menginggalkan layanan.\n",
        "\n",
        "\n",
        "Features:\n",
        "- CustomerId: ID unik untuk setiap pelanggan.\n",
        "- Gender: Jenis kelamin pelanggan (Female / Male).\n",
        "- Age: Usia pelanggan.\n",
        "- CreditScore: Skor kredit dari pelanggan.\n",
        "- EstimatedSalary: Perkiraan gaji pelanggan.\n",
        "- HasCrCard: Menunjukkan apakah pelanggan memiliki kartu kredit (1 untuk ya, 0 untuk tidak).\n",
        "- Exited: Variabel target yang menunjukkan apakah pelanggan keluar dari layanan (1 untuk ya, 0 untuk tidak).\n"
      ],
      "metadata": {
        "id": "9fjYSFCerKCu"
      }
    },
    {
      "cell_type": "code",
      "source": [
        "dependent_variable_name = \"Exited\""
      ],
      "metadata": {
        "id": "oALhe7JX5rjW"
      },
      "execution_count": 3,
      "outputs": []
    },
    {
      "cell_type": "markdown",
      "metadata": {
        "id": "KqI6zLnkLdNy"
      },
      "source": [
        "## 2.2 EDA"
      ]
    },
    {
      "cell_type": "markdown",
      "source": [
        "### 2.2.1 Analisis Nilai-Nilai Yang Hilang (Missing Values)"
      ],
      "metadata": {
        "id": "akhL_2WZXZPb"
      }
    },
    {
      "cell_type": "code",
      "source": [
        "# Memeriksa nilai-nilai yang hilang\n",
        "missing_values = df.isnull().sum()\n",
        "\n",
        "# Menampilkan jumlah nilai-nilai yang hilang\n",
        "print(\"Jumlah nilai-nilai yang hilang:\")\n",
        "print(missing_values)"
      ],
      "metadata": {
        "id": "ZzY63soVuBLS",
        "colab": {
          "base_uri": "https://localhost:8080/"
        },
        "outputId": "d54ab5a7-4797-4fd6-d1c1-6cc2fe48bd9b"
      },
      "execution_count": 4,
      "outputs": [
        {
          "output_type": "stream",
          "name": "stdout",
          "text": [
            "Jumlah nilai-nilai yang hilang:\n",
            "CustomerId         0\n",
            "Gender             0\n",
            "Age                0\n",
            "CreditScore        0\n",
            "EstimatedSalary    0\n",
            "HasCrCard          0\n",
            "Exited             0\n",
            "dtype: int64\n"
          ]
        }
      ]
    },
    {
      "cell_type": "markdown",
      "source": [
        "### 2.2.2 Analisis Nilai-Nilai Yang Duplikat"
      ],
      "metadata": {
        "id": "ay_sOg30XfP4"
      }
    },
    {
      "cell_type": "code",
      "source": [
        "# Memeriksa nilai-nilai yang duplikat\n",
        "duplicate_rows = df[df.duplicated()]\n",
        "\n",
        "# Menampilkan baris yang merupakan duplikat\n",
        "print(\"Duplikat dalam DataFrame:\")\n",
        "print(duplicate_rows)"
      ],
      "metadata": {
        "id": "0TX_Ul9Hu6yP",
        "colab": {
          "base_uri": "https://localhost:8080/"
        },
        "outputId": "3a3500f4-cd3e-4a99-85a1-cc85bf231f81"
      },
      "execution_count": 5,
      "outputs": [
        {
          "output_type": "stream",
          "name": "stdout",
          "text": [
            "Duplikat dalam DataFrame:\n",
            "Empty DataFrame\n",
            "Columns: [CustomerId, Gender, Age, CreditScore, EstimatedSalary, HasCrCard, Exited]\n",
            "Index: []\n"
          ]
        }
      ]
    },
    {
      "cell_type": "markdown",
      "source": [
        "### 2.2.3 Overview Tipe Data dari Setiap Kolom"
      ],
      "metadata": {
        "id": "7POI1tkEYer9"
      }
    },
    {
      "cell_type": "code",
      "source": [
        "# Memeriksa tipe data dari setiap kolom\n",
        "column_data_types = df.dtypes\n",
        "\n",
        "# Menampilkan tipe data dari setiap kolom\n",
        "print(\"Tipe data dari setiap kolom:\")\n",
        "print(column_data_types)"
      ],
      "metadata": {
        "id": "wH1-mwXzveN3",
        "colab": {
          "base_uri": "https://localhost:8080/"
        },
        "outputId": "05a0b272-6103-4009-8090-35e865b9d937"
      },
      "execution_count": 6,
      "outputs": [
        {
          "output_type": "stream",
          "name": "stdout",
          "text": [
            "Tipe data dari setiap kolom:\n",
            "CustomerId           int64\n",
            "Gender              object\n",
            "Age                  int64\n",
            "CreditScore          int64\n",
            "EstimatedSalary    float64\n",
            "HasCrCard            int64\n",
            "Exited               int64\n",
            "dtype: object\n"
          ]
        }
      ]
    },
    {
      "cell_type": "markdown",
      "source": [
        "### 2.2.4 Informasi Umum DataFrame"
      ],
      "metadata": {
        "id": "5aHgy5ZDYzQ3"
      }
    },
    {
      "cell_type": "code",
      "source": [
        "# Menampilkan informasi umum mengenai DataFrame\n",
        "print(\"Informasi umum mengenai DataFrame:\")\n",
        "df.info()"
      ],
      "metadata": {
        "id": "20Tv9AtttfUD",
        "colab": {
          "base_uri": "https://localhost:8080/"
        },
        "outputId": "d27896d9-2703-4e7d-cde6-26d201bb4556"
      },
      "execution_count": 7,
      "outputs": [
        {
          "output_type": "stream",
          "name": "stdout",
          "text": [
            "Informasi umum mengenai DataFrame:\n",
            "<class 'pandas.core.frame.DataFrame'>\n",
            "RangeIndex: 10000 entries, 0 to 9999\n",
            "Data columns (total 7 columns):\n",
            " #   Column           Non-Null Count  Dtype  \n",
            "---  ------           --------------  -----  \n",
            " 0   CustomerId       10000 non-null  int64  \n",
            " 1   Gender           10000 non-null  object \n",
            " 2   Age              10000 non-null  int64  \n",
            " 3   CreditScore      10000 non-null  int64  \n",
            " 4   EstimatedSalary  10000 non-null  float64\n",
            " 5   HasCrCard        10000 non-null  int64  \n",
            " 6   Exited           10000 non-null  int64  \n",
            "dtypes: float64(1), int64(5), object(1)\n",
            "memory usage: 547.0+ KB\n"
          ]
        }
      ]
    },
    {
      "cell_type": "markdown",
      "source": [
        "### 2.2.5 Rangkuman Statistik Deskriptif"
      ],
      "metadata": {
        "id": "dXwDlZVhaQ12"
      }
    },
    {
      "cell_type": "code",
      "source": [
        "# Menampilkan statistik deskriptif singkat\n",
        "print(\"Statistik deskriptif dari kolom numerik DataFrame:\")\n",
        "df.describe()"
      ],
      "metadata": {
        "id": "GPsiVrrhuHqg",
        "colab": {
          "base_uri": "https://localhost:8080/",
          "height": 318
        },
        "outputId": "3392a77f-abd6-49b4-8066-3379555be3a6"
      },
      "execution_count": 8,
      "outputs": [
        {
          "output_type": "stream",
          "name": "stdout",
          "text": [
            "Statistik deskriptif dari kolom numerik DataFrame:\n"
          ]
        },
        {
          "output_type": "execute_result",
          "data": {
            "text/plain": [
              "         CustomerId           Age   CreditScore  EstimatedSalary    HasCrCard  \\\n",
              "count  1.000000e+04  10000.000000  10000.000000     10000.000000  10000.00000   \n",
              "mean   1.569094e+07     38.921800    650.528800    100090.239881      0.70550   \n",
              "std    7.193619e+04     10.487806     96.653299     57510.492818      0.45584   \n",
              "min    1.556570e+07     18.000000    350.000000        11.580000      0.00000   \n",
              "25%    1.562853e+07     32.000000    584.000000     51002.110000      0.00000   \n",
              "50%    1.569074e+07     37.000000    652.000000    100193.915000      1.00000   \n",
              "75%    1.575323e+07     44.000000    718.000000    149388.247500      1.00000   \n",
              "max    1.581569e+07     92.000000    850.000000    199992.480000      1.00000   \n",
              "\n",
              "             Exited  \n",
              "count  10000.000000  \n",
              "mean       0.203700  \n",
              "std        0.402769  \n",
              "min        0.000000  \n",
              "25%        0.000000  \n",
              "50%        0.000000  \n",
              "75%        0.000000  \n",
              "max        1.000000  "
            ],
            "text/html": [
              "\n",
              "  <div id=\"df-15a64e6e-3d04-4ac6-9346-bb463abce674\" class=\"colab-df-container\">\n",
              "    <div>\n",
              "<style scoped>\n",
              "    .dataframe tbody tr th:only-of-type {\n",
              "        vertical-align: middle;\n",
              "    }\n",
              "\n",
              "    .dataframe tbody tr th {\n",
              "        vertical-align: top;\n",
              "    }\n",
              "\n",
              "    .dataframe thead th {\n",
              "        text-align: right;\n",
              "    }\n",
              "</style>\n",
              "<table border=\"1\" class=\"dataframe\">\n",
              "  <thead>\n",
              "    <tr style=\"text-align: right;\">\n",
              "      <th></th>\n",
              "      <th>CustomerId</th>\n",
              "      <th>Age</th>\n",
              "      <th>CreditScore</th>\n",
              "      <th>EstimatedSalary</th>\n",
              "      <th>HasCrCard</th>\n",
              "      <th>Exited</th>\n",
              "    </tr>\n",
              "  </thead>\n",
              "  <tbody>\n",
              "    <tr>\n",
              "      <th>count</th>\n",
              "      <td>1.000000e+04</td>\n",
              "      <td>10000.000000</td>\n",
              "      <td>10000.000000</td>\n",
              "      <td>10000.000000</td>\n",
              "      <td>10000.00000</td>\n",
              "      <td>10000.000000</td>\n",
              "    </tr>\n",
              "    <tr>\n",
              "      <th>mean</th>\n",
              "      <td>1.569094e+07</td>\n",
              "      <td>38.921800</td>\n",
              "      <td>650.528800</td>\n",
              "      <td>100090.239881</td>\n",
              "      <td>0.70550</td>\n",
              "      <td>0.203700</td>\n",
              "    </tr>\n",
              "    <tr>\n",
              "      <th>std</th>\n",
              "      <td>7.193619e+04</td>\n",
              "      <td>10.487806</td>\n",
              "      <td>96.653299</td>\n",
              "      <td>57510.492818</td>\n",
              "      <td>0.45584</td>\n",
              "      <td>0.402769</td>\n",
              "    </tr>\n",
              "    <tr>\n",
              "      <th>min</th>\n",
              "      <td>1.556570e+07</td>\n",
              "      <td>18.000000</td>\n",
              "      <td>350.000000</td>\n",
              "      <td>11.580000</td>\n",
              "      <td>0.00000</td>\n",
              "      <td>0.000000</td>\n",
              "    </tr>\n",
              "    <tr>\n",
              "      <th>25%</th>\n",
              "      <td>1.562853e+07</td>\n",
              "      <td>32.000000</td>\n",
              "      <td>584.000000</td>\n",
              "      <td>51002.110000</td>\n",
              "      <td>0.00000</td>\n",
              "      <td>0.000000</td>\n",
              "    </tr>\n",
              "    <tr>\n",
              "      <th>50%</th>\n",
              "      <td>1.569074e+07</td>\n",
              "      <td>37.000000</td>\n",
              "      <td>652.000000</td>\n",
              "      <td>100193.915000</td>\n",
              "      <td>1.00000</td>\n",
              "      <td>0.000000</td>\n",
              "    </tr>\n",
              "    <tr>\n",
              "      <th>75%</th>\n",
              "      <td>1.575323e+07</td>\n",
              "      <td>44.000000</td>\n",
              "      <td>718.000000</td>\n",
              "      <td>149388.247500</td>\n",
              "      <td>1.00000</td>\n",
              "      <td>0.000000</td>\n",
              "    </tr>\n",
              "    <tr>\n",
              "      <th>max</th>\n",
              "      <td>1.581569e+07</td>\n",
              "      <td>92.000000</td>\n",
              "      <td>850.000000</td>\n",
              "      <td>199992.480000</td>\n",
              "      <td>1.00000</td>\n",
              "      <td>1.000000</td>\n",
              "    </tr>\n",
              "  </tbody>\n",
              "</table>\n",
              "</div>\n",
              "    <div class=\"colab-df-buttons\">\n",
              "\n",
              "  <div class=\"colab-df-container\">\n",
              "    <button class=\"colab-df-convert\" onclick=\"convertToInteractive('df-15a64e6e-3d04-4ac6-9346-bb463abce674')\"\n",
              "            title=\"Convert this dataframe to an interactive table.\"\n",
              "            style=\"display:none;\">\n",
              "\n",
              "  <svg xmlns=\"http://www.w3.org/2000/svg\" height=\"24px\" viewBox=\"0 -960 960 960\">\n",
              "    <path d=\"M120-120v-720h720v720H120Zm60-500h600v-160H180v160Zm220 220h160v-160H400v160Zm0 220h160v-160H400v160ZM180-400h160v-160H180v160Zm440 0h160v-160H620v160ZM180-180h160v-160H180v160Zm440 0h160v-160H620v160Z\"/>\n",
              "  </svg>\n",
              "    </button>\n",
              "\n",
              "  <style>\n",
              "    .colab-df-container {\n",
              "      display:flex;\n",
              "      gap: 12px;\n",
              "    }\n",
              "\n",
              "    .colab-df-convert {\n",
              "      background-color: #E8F0FE;\n",
              "      border: none;\n",
              "      border-radius: 50%;\n",
              "      cursor: pointer;\n",
              "      display: none;\n",
              "      fill: #1967D2;\n",
              "      height: 32px;\n",
              "      padding: 0 0 0 0;\n",
              "      width: 32px;\n",
              "    }\n",
              "\n",
              "    .colab-df-convert:hover {\n",
              "      background-color: #E2EBFA;\n",
              "      box-shadow: 0px 1px 2px rgba(60, 64, 67, 0.3), 0px 1px 3px 1px rgba(60, 64, 67, 0.15);\n",
              "      fill: #174EA6;\n",
              "    }\n",
              "\n",
              "    .colab-df-buttons div {\n",
              "      margin-bottom: 4px;\n",
              "    }\n",
              "\n",
              "    [theme=dark] .colab-df-convert {\n",
              "      background-color: #3B4455;\n",
              "      fill: #D2E3FC;\n",
              "    }\n",
              "\n",
              "    [theme=dark] .colab-df-convert:hover {\n",
              "      background-color: #434B5C;\n",
              "      box-shadow: 0px 1px 3px 1px rgba(0, 0, 0, 0.15);\n",
              "      filter: drop-shadow(0px 1px 2px rgba(0, 0, 0, 0.3));\n",
              "      fill: #FFFFFF;\n",
              "    }\n",
              "  </style>\n",
              "\n",
              "    <script>\n",
              "      const buttonEl =\n",
              "        document.querySelector('#df-15a64e6e-3d04-4ac6-9346-bb463abce674 button.colab-df-convert');\n",
              "      buttonEl.style.display =\n",
              "        google.colab.kernel.accessAllowed ? 'block' : 'none';\n",
              "\n",
              "      async function convertToInteractive(key) {\n",
              "        const element = document.querySelector('#df-15a64e6e-3d04-4ac6-9346-bb463abce674');\n",
              "        const dataTable =\n",
              "          await google.colab.kernel.invokeFunction('convertToInteractive',\n",
              "                                                    [key], {});\n",
              "        if (!dataTable) return;\n",
              "\n",
              "        const docLinkHtml = 'Like what you see? Visit the ' +\n",
              "          '<a target=\"_blank\" href=https://colab.research.google.com/notebooks/data_table.ipynb>data table notebook</a>'\n",
              "          + ' to learn more about interactive tables.';\n",
              "        element.innerHTML = '';\n",
              "        dataTable['output_type'] = 'display_data';\n",
              "        await google.colab.output.renderOutput(dataTable, element);\n",
              "        const docLink = document.createElement('div');\n",
              "        docLink.innerHTML = docLinkHtml;\n",
              "        element.appendChild(docLink);\n",
              "      }\n",
              "    </script>\n",
              "  </div>\n",
              "\n",
              "\n",
              "<div id=\"df-562bb492-b34b-43b0-b8a6-51bb9c394656\">\n",
              "  <button class=\"colab-df-quickchart\" onclick=\"quickchart('df-562bb492-b34b-43b0-b8a6-51bb9c394656')\"\n",
              "            title=\"Suggest charts\"\n",
              "            style=\"display:none;\">\n",
              "\n",
              "<svg xmlns=\"http://www.w3.org/2000/svg\" height=\"24px\"viewBox=\"0 0 24 24\"\n",
              "     width=\"24px\">\n",
              "    <g>\n",
              "        <path d=\"M19 3H5c-1.1 0-2 .9-2 2v14c0 1.1.9 2 2 2h14c1.1 0 2-.9 2-2V5c0-1.1-.9-2-2-2zM9 17H7v-7h2v7zm4 0h-2V7h2v10zm4 0h-2v-4h2v4z\"/>\n",
              "    </g>\n",
              "</svg>\n",
              "  </button>\n",
              "\n",
              "<style>\n",
              "  .colab-df-quickchart {\n",
              "      --bg-color: #E8F0FE;\n",
              "      --fill-color: #1967D2;\n",
              "      --hover-bg-color: #E2EBFA;\n",
              "      --hover-fill-color: #174EA6;\n",
              "      --disabled-fill-color: #AAA;\n",
              "      --disabled-bg-color: #DDD;\n",
              "  }\n",
              "\n",
              "  [theme=dark] .colab-df-quickchart {\n",
              "      --bg-color: #3B4455;\n",
              "      --fill-color: #D2E3FC;\n",
              "      --hover-bg-color: #434B5C;\n",
              "      --hover-fill-color: #FFFFFF;\n",
              "      --disabled-bg-color: #3B4455;\n",
              "      --disabled-fill-color: #666;\n",
              "  }\n",
              "\n",
              "  .colab-df-quickchart {\n",
              "    background-color: var(--bg-color);\n",
              "    border: none;\n",
              "    border-radius: 50%;\n",
              "    cursor: pointer;\n",
              "    display: none;\n",
              "    fill: var(--fill-color);\n",
              "    height: 32px;\n",
              "    padding: 0;\n",
              "    width: 32px;\n",
              "  }\n",
              "\n",
              "  .colab-df-quickchart:hover {\n",
              "    background-color: var(--hover-bg-color);\n",
              "    box-shadow: 0 1px 2px rgba(60, 64, 67, 0.3), 0 1px 3px 1px rgba(60, 64, 67, 0.15);\n",
              "    fill: var(--button-hover-fill-color);\n",
              "  }\n",
              "\n",
              "  .colab-df-quickchart-complete:disabled,\n",
              "  .colab-df-quickchart-complete:disabled:hover {\n",
              "    background-color: var(--disabled-bg-color);\n",
              "    fill: var(--disabled-fill-color);\n",
              "    box-shadow: none;\n",
              "  }\n",
              "\n",
              "  .colab-df-spinner {\n",
              "    border: 2px solid var(--fill-color);\n",
              "    border-color: transparent;\n",
              "    border-bottom-color: var(--fill-color);\n",
              "    animation:\n",
              "      spin 1s steps(1) infinite;\n",
              "  }\n",
              "\n",
              "  @keyframes spin {\n",
              "    0% {\n",
              "      border-color: transparent;\n",
              "      border-bottom-color: var(--fill-color);\n",
              "      border-left-color: var(--fill-color);\n",
              "    }\n",
              "    20% {\n",
              "      border-color: transparent;\n",
              "      border-left-color: var(--fill-color);\n",
              "      border-top-color: var(--fill-color);\n",
              "    }\n",
              "    30% {\n",
              "      border-color: transparent;\n",
              "      border-left-color: var(--fill-color);\n",
              "      border-top-color: var(--fill-color);\n",
              "      border-right-color: var(--fill-color);\n",
              "    }\n",
              "    40% {\n",
              "      border-color: transparent;\n",
              "      border-right-color: var(--fill-color);\n",
              "      border-top-color: var(--fill-color);\n",
              "    }\n",
              "    60% {\n",
              "      border-color: transparent;\n",
              "      border-right-color: var(--fill-color);\n",
              "    }\n",
              "    80% {\n",
              "      border-color: transparent;\n",
              "      border-right-color: var(--fill-color);\n",
              "      border-bottom-color: var(--fill-color);\n",
              "    }\n",
              "    90% {\n",
              "      border-color: transparent;\n",
              "      border-bottom-color: var(--fill-color);\n",
              "    }\n",
              "  }\n",
              "</style>\n",
              "\n",
              "  <script>\n",
              "    async function quickchart(key) {\n",
              "      const quickchartButtonEl =\n",
              "        document.querySelector('#' + key + ' button');\n",
              "      quickchartButtonEl.disabled = true;  // To prevent multiple clicks.\n",
              "      quickchartButtonEl.classList.add('colab-df-spinner');\n",
              "      try {\n",
              "        const charts = await google.colab.kernel.invokeFunction(\n",
              "            'suggestCharts', [key], {});\n",
              "      } catch (error) {\n",
              "        console.error('Error during call to suggestCharts:', error);\n",
              "      }\n",
              "      quickchartButtonEl.classList.remove('colab-df-spinner');\n",
              "      quickchartButtonEl.classList.add('colab-df-quickchart-complete');\n",
              "    }\n",
              "    (() => {\n",
              "      let quickchartButtonEl =\n",
              "        document.querySelector('#df-562bb492-b34b-43b0-b8a6-51bb9c394656 button');\n",
              "      quickchartButtonEl.style.display =\n",
              "        google.colab.kernel.accessAllowed ? 'block' : 'none';\n",
              "    })();\n",
              "  </script>\n",
              "</div>\n",
              "    </div>\n",
              "  </div>\n"
            ]
          },
          "metadata": {},
          "execution_count": 8
        }
      ]
    },
    {
      "cell_type": "markdown",
      "source": [
        "### 2.2.6 Plot Distribusi"
      ],
      "metadata": {
        "id": "-I-ZNSsvajRn"
      }
    },
    {
      "cell_type": "code",
      "source": [
        "# 1\n",
        "# Menampilkan distribusi variabel dependen terhadap beberapa variabel independen\n",
        "fig, axarr = plt.subplots(2, 3, figsize=(18, 6))\n",
        "\n",
        "# Menampilkan distribusi variabel dependen 'Exited' terhadap variabel independen 'Gender'\n",
        "sns.countplot(x='Gender', hue='Exited', data=df, ax=axarr[0, 0])\n",
        "\n",
        "# Menampilkan distribusi variabel dependen 'Exited' terhadap variabel independen 'Age'\n",
        "sns.countplot(x='Age', hue='Exited', data=df, ax=axarr[0, 1])\n",
        "\n",
        "# Menampilkan distribusi variabel dependen 'Exited' terhadap variabel independen 'CreditScore'\n",
        "sns.countplot(x='CreditScore', hue='Exited', data=df, ax=axarr[0, 2])\n",
        "\n",
        "# Menampilkan distribusi variabel dependen 'Exited' terhadap variabel independen 'EstimatedSalary'\n",
        "sns.countplot(x='EstimatedSalary', hue='Exited', data=df, ax=axarr[1, 0])\n",
        "\n",
        "# Menampilkan distribusi variabel dependen 'Exited' terhadap variabel independen 'HasCrCard'\n",
        "sns.countplot(x='HasCrCard', hue='Exited', data=df, ax=axarr[1, 1])\n",
        "\n",
        "# Menghitung jumlah nilai 0 (tidak Exited) dan nilai 1 (Exited) pada variabel dependen 'Exited'\n",
        "zero_count, one_count = df['Exited'].value_counts()\n",
        "print(\"Distribusi variabel dependen:\")\n",
        "print(\"Exited 0 count:\", zero_count)\n",
        "print(\"Exited 1 count:\", one_count)\n",
        "\n",
        "fig.suptitle('Distribusi Variabel Dependen', fontsize=18)\n",
        "\n",
        "# Menampilkan plot\n",
        "plt.show()\n",
        "\n",
        "# 2\n",
        "# Menampilkan distribusi variabel numerik dalam DataFrame\n",
        "numerics = ['int16', 'int32', 'int64', 'float16', 'float32', 'float64']\n",
        "df_num_cols = df.select_dtypes(include=numerics)\n",
        "columns = df_num_cols.columns[: len(df_num_cols.columns)]\n",
        "\n",
        "fig = plt.figure()\n",
        "fig.set_size_inches(18, 15)\n",
        "length = len(columns)\n",
        "\n",
        "for i, j in zip(columns, range(length)):\n",
        "    plt.subplot(int(length / 2), 3, j + 1)\n",
        "    plt.subplots_adjust(wspace=0.2, hspace=0.5)\n",
        "    df_num_cols[i].hist(bins=20, edgecolor='black')\n",
        "    plt.title(i)\n",
        "\n",
        "fig.suptitle('Struktur Variabel Numerik', fontsize=18)\n",
        "plt.show()\n",
        "\n",
        "# 3\n",
        "# Menampilkan distribusi variabel dependen terhadap variabel lainnya\n",
        "numerics = ['int16', 'int32', 'int64', 'float16', 'float32', 'float64']\n",
        "df_dependent_var = df[df['Exited']==1]\n",
        "df_num_cols = df_dependent_var.select_dtypes(include=numerics)\n",
        "columns = df_num_cols.columns[:len(df_num_cols.columns)]\n",
        "fig = plt.figure()\n",
        "fig.set_size_inches(18, 15)\n",
        "length = len(columns)\n",
        "for i, j in zip(columns, range(length)):\n",
        "    plt.subplot(int(length/2), 3, j+1)\n",
        "    plt.subplots_adjust(wspace=0.2, hspace=0.5)\n",
        "    df_num_cols[i].hist(bins=20, edgecolor='black')\n",
        "    plt.title(i)\n",
        "fig.suptitle('Distribusi Variabel Dependen Terhadap Variabel Lainnya', fontsize=18)\n",
        "plt.show()\n",
        "\n",
        "# 4\n",
        "# Menampilkan distribusi variabel kategorikal 'Gender' terhadap variabel dependen\n",
        "fig, ax = plt.subplots(figsize=(7, 5))\n",
        "sns.countplot(x='Gender', hue='Exited', data=df, ax=ax)\n",
        "ax.set_title('Distribusi Variabel Kategorikal Gender Terhadap Variabel Dependen')\n",
        "plt.show()"
      ],
      "metadata": {
        "id": "JvhH2TJq0Ka_",
        "colab": {
          "base_uri": "https://localhost:8080/",
          "height": 1000
        },
        "outputId": "2f6678e1-8fd6-4f3e-ff2c-dc7eff2ffa90"
      },
      "execution_count": 9,
      "outputs": [
        {
          "output_type": "stream",
          "name": "stdout",
          "text": [
            "Distribusi variabel dependen:\n",
            "Exited 0 count: 7963\n",
            "Exited 1 count: 2037\n"
          ]
        },
        {
          "output_type": "display_data",
          "data": {
            "text/plain": [
              "<Figure size 1800x600 with 6 Axes>"
            ],
            "image/png": "[encoded data removed]"
          },
          "metadata": {}
        },
        {
          "output_type": "display_data",
          "data": {
            "text/plain": [
              "<Figure size 1800x1500 with 6 Axes>"
            ],
            "image/png": "[encoded data removed]"
          },
          "metadata": {}
        },
        {
          "output_type": "display_data",
          "data": {
            "text/plain": [
              "<Figure size 1800x1500 with 6 Axes>"
            ],
            "image/png": "[encoded data removed]"
          },
          "metadata": {}
        },
        {
          "output_type": "display_data",
          "data": {
            "text/plain": [
              "<Figure size 700x500 with 1 Axes>"
            ],
            "image/png": "[encoded data removed]"
          },
          "metadata": {}
        }
      ]
    },
    {
      "cell_type": "markdown",
      "source": [
        "### 2.2.7 Analisis Nilai-Nilai Unik"
      ],
      "metadata": {
        "id": "T6gFeS_Oa1Eg"
      }
    },
    {
      "cell_type": "code",
      "source": [
        "# Menampilkan jumlah nilai unik dari setiap variabel dalam dataframe\n",
        "def show_unique_count_variables(df):\n",
        "    for index, value in df.nunique().items():\n",
        "        print(str(index) + \"\\n\\t\\t\\t:\" + str(value))\n",
        "\n",
        "show_unique_count_variables(df)"
      ],
      "metadata": {
        "id": "fHxf-vJ95wuU",
        "colab": {
          "base_uri": "https://localhost:8080/"
        },
        "outputId": "b899cbae-d751-4971-dab8-1cad2f17638b"
      },
      "execution_count": 10,
      "outputs": [
        {
          "output_type": "stream",
          "name": "stdout",
          "text": [
            "CustomerId\n",
            "\t\t\t:10000\n",
            "Gender\n",
            "\t\t\t:2\n",
            "Age\n",
            "\t\t\t:70\n",
            "CreditScore\n",
            "\t\t\t:460\n",
            "EstimatedSalary\n",
            "\t\t\t:9999\n",
            "HasCrCard\n",
            "\t\t\t:2\n",
            "Exited\n",
            "\t\t\t:2\n"
          ]
        }
      ]
    },
    {
      "cell_type": "markdown",
      "source": [
        "## 2.3 Data Preprocessing"
      ],
      "metadata": {
        "id": "7nldNcepdF8F"
      }
    },
    {
      "cell_type": "markdown",
      "source": [
        "### 2.3.1 Mempersiapkan data"
      ],
      "metadata": {
        "id": "TLMtDenVdI_t"
      }
    },
    {
      "cell_type": "code",
      "source": [
        "# Mempersiapkan data\n",
        "def data_prepare(df):\n",
        "    df_prep = df.copy()\n",
        "    return df_prep\n",
        "\n",
        "# Menyimpan DataFrame yang telah dipersiapkan\n",
        "df_prep = data_prepare(df)"
      ],
      "metadata": {
        "id": "AUNSX0W1cF7L"
      },
      "execution_count": 11,
      "outputs": []
    },
    {
      "cell_type": "markdown",
      "source": [
        "### 2.3.2 Menangani Nilai-Nilai Yang Hilang (Missing Values)"
      ],
      "metadata": {
        "id": "nMJ_uVYydWUz"
      }
    },
    {
      "cell_type": "code",
      "source": [
        "def process_and_display_data(df_prep):\n",
        "    print(\"=== Informasi nilai-nilai yang hilang ===\")\n",
        "    # Menangani nilai yang hilang\n",
        "    missing_value_len = df_prep.isnull().any().sum()\n",
        "    if missing_value_len == 0:\n",
        "        print(\"Tidak ada nilai yang hilang.\")\n",
        "    else:\n",
        "        print(f\"Investigasi nilai yang hilang. Jumlah nilai yang hilang: {missing_value_len}\")\n",
        "    print(\"\\n\")\n",
        "\n",
        "    print(\"=== Jumlah unik untuk setiap variabel ===\")\n",
        "    # Menampilkan jumlah unik untuk setiap variabel yang telah dipersiapkan\n",
        "    for index, value in df_prep.nunique().items():\n",
        "        print(f\"{index}\\n\\t\\t\\t:{value}\")\n",
        "    return df_prep\n",
        "\n",
        "result_df = process_and_display_data(df_prep)"
      ],
      "metadata": {
        "colab": {
          "base_uri": "https://localhost:8080/"
        },
        "id": "82VuH1F6ddFk",
        "outputId": "361db724-a4c4-48a9-9f02-f421757e82f2"
      },
      "execution_count": 12,
      "outputs": [
        {
          "output_type": "stream",
          "name": "stdout",
          "text": [
            "=== Informasi nilai-nilai yang hilang ===\n",
            "Tidak ada nilai yang hilang.\n",
            "\n",
            "\n",
            "=== Jumlah unik untuk setiap variabel ===\n",
            "CustomerId\n",
            "\t\t\t:10000\n",
            "Gender\n",
            "\t\t\t:2\n",
            "Age\n",
            "\t\t\t:70\n",
            "CreditScore\n",
            "\t\t\t:460\n",
            "EstimatedSalary\n",
            "\t\t\t:9999\n",
            "HasCrCard\n",
            "\t\t\t:2\n",
            "Exited\n",
            "\t\t\t:2\n"
          ]
        }
      ]
    },
    {
      "cell_type": "markdown",
      "metadata": {
        "id": "d9pKQB0QLBsS"
      },
      "source": [
        "# 3. Model Training\n",
        "\n",
        "PIC : Timmy, Eko"
      ]
    },
    {
      "cell_type": "markdown",
      "metadata": {
        "id": "74YmBGPDOEOd"
      },
      "source": [
        "## 3.1 Splitting Data"
      ]
    },
    {
      "cell_type": "markdown",
      "metadata": {
        "id": "ayK3jmB5OJeY"
      },
      "source": [
        "## 3.2 Scaling"
      ]
    },
    {
      "cell_type": "code",
      "execution_count": 13,
      "metadata": {
        "id": "LGkMNdhUmsbg"
      },
      "outputs": [],
      "source": [
        "def model_prepare(df_model):\n",
        "    y = df_model[dependent_variable_name]\n",
        "    X = df_model.loc[:, df_model.columns != dependent_variable_name]\n",
        "    X_train, X_test, y_train, y_test = train_test_split(X, y, test_size = 0.2, random_state = 42)\n",
        "    sc = StandardScaler()\n",
        "    X_train = sc.fit_transform(X_train)\n",
        "    X_test = sc.transform (X_test)\n",
        "    return X_train, X_test, y_train, y_test"
      ]
    },
    {
      "cell_type": "markdown",
      "metadata": {
        "id": "DsLgaohkOVu_"
      },
      "source": [
        "## 3.3 Model Training"
      ]
    },
    {
      "cell_type": "code",
      "execution_count": 14,
      "metadata": {
        "id": "sUS0_ToelF2M"
      },
      "outputs": [],
      "source": [
        "def data_training(X_train, X_test, y_train, y_test):\n",
        "\n",
        "    models = []\n",
        "    models.append(('LOGR', LogisticRegression()))\n",
        "    models.append(('KNN', KNeighborsClassifier()))\n",
        "    models.append(('CART', DecisionTreeClassifier()))\n",
        "    models.append(('RF', RandomForestClassifier()))\n",
        "    models.append(('GBM', GradientBoostingClassifier()))\n",
        "    models.append(('XGBoost', XGBClassifier()))\n",
        "    models.append(('LightGBM', LGBMClassifier()))\n",
        "    models.append(('SVM', SVC()))\n",
        "    models.append(('AdaBoost', AdaBoostClassifier()))\n",
        "\n",
        "    res_cols = [\"model\", \"accuracy_score\", \"0_precision\", \"0_recall\", \"1_precision\", \"1_recall\"]\n",
        "    df_result = pd.DataFrame(columns=res_cols)\n",
        "    index = 0\n",
        "    for name, model in models:\n",
        "        model.fit(X_train, y_train)\n",
        "        y_pred = model.predict(X_test)\n",
        "        score = accuracy_score(y_test, y_pred)\n",
        "        class_report = classification_report(y_test, y_pred, digits=2, output_dict=True)\n",
        "        zero_report = class_report['0']\n",
        "        one_report = class_report['1']\n",
        "\n",
        "        idx_res_values = [name, score, zero_report['precision'], zero_report['recall'], one_report['precision'], one_report['recall']]\n",
        "        # df_result.at[index, res_cols] = idx_res_values\n",
        "        df_result.loc[index, res_cols] = idx_res_values\n",
        "        index += 1\n",
        "    df_result = df_result.sort_values(\"accuracy_score\", ascending=False).reset_index(drop=True)\n",
        "    return df_result"
      ]
    },
    {
      "cell_type": "markdown",
      "source": [
        "## 3.3.1 | Logistic Regression"
      ],
      "metadata": {
        "id": "IyhH4uNzOxZb"
      }
    },
    {
      "cell_type": "code",
      "source": [
        "from sklearn.linear_model import LogisticRegression\n",
        "log_reg = LogisticRegression(C=1, penalty='l2', solver='liblinear', max_iter=200)\n",
        "log_reg.fit(X_train, y_train)"
      ],
      "metadata": {
        "id": "-2PdKpNvJQoD",
        "colab": {
          "base_uri": "https://localhost:8080/",
          "height": 210
        },
        "outputId": "64c87b58-0ffb-4887-b64a-7fe90d182108"
      },
      "execution_count": 15,
      "outputs": [
        {
          "output_type": "error",
          "ename": "NameError",
          "evalue": "ignored",
          "traceback": [
            "\u001b[0;31m---------------------------------------------------------------------------\u001b[0m",
            "\u001b[0;31mNameError\u001b[0m                                 Traceback (most recent call last)",
            "\u001b[0;32m<ipython-input-15-8d3e00501723>\u001b[0m in \u001b[0;36m<cell line: 3>\u001b[0;34m()\u001b[0m\n\u001b[1;32m      1\u001b[0m \u001b[0;32mfrom\u001b[0m \u001b[0msklearn\u001b[0m\u001b[0;34m.\u001b[0m\u001b[0mlinear_model\u001b[0m \u001b[0;32mimport\u001b[0m \u001b[0mLogisticRegression\u001b[0m\u001b[0;34m\u001b[0m\u001b[0;34m\u001b[0m\u001b[0m\n\u001b[1;32m      2\u001b[0m \u001b[0mlog_reg\u001b[0m \u001b[0;34m=\u001b[0m \u001b[0mLogisticRegression\u001b[0m\u001b[0;34m(\u001b[0m\u001b[0mC\u001b[0m\u001b[0;34m=\u001b[0m\u001b[0;36m1\u001b[0m\u001b[0;34m,\u001b[0m \u001b[0mpenalty\u001b[0m\u001b[0;34m=\u001b[0m\u001b[0;34m'l2'\u001b[0m\u001b[0;34m,\u001b[0m \u001b[0msolver\u001b[0m\u001b[0;34m=\u001b[0m\u001b[0;34m'liblinear'\u001b[0m\u001b[0;34m,\u001b[0m \u001b[0mmax_iter\u001b[0m\u001b[0;34m=\u001b[0m\u001b[0;36m200\u001b[0m\u001b[0;34m)\u001b[0m\u001b[0;34m\u001b[0m\u001b[0;34m\u001b[0m\u001b[0m\n\u001b[0;32m----> 3\u001b[0;31m \u001b[0mlog_reg\u001b[0m\u001b[0;34m.\u001b[0m\u001b[0mfit\u001b[0m\u001b[0;34m(\u001b[0m\u001b[0mX_train\u001b[0m\u001b[0;34m,\u001b[0m \u001b[0my_train\u001b[0m\u001b[0;34m)\u001b[0m\u001b[0;34m\u001b[0m\u001b[0;34m\u001b[0m\u001b[0m\n\u001b[0m",
            "\u001b[0;31mNameError\u001b[0m: name 'X_train' is not defined"
          ]
        }
      ]
    },
    {
      "cell_type": "code",
      "source": [
        "from sklearn.metrics import confusion_matrix, accuracy_score\n",
        "import matplotlib.pyplot as plt\n",
        "import seaborn as sns\n",
        "\n",
        "def predict_and_plot(model, inputs, targets, name=''):\n",
        "    preds = model.predict(inputs)\n",
        "    accuracy = accuracy_score(targets, preds)\n",
        "    print(\"Accuracy: {:.2f}%\".format(accuracy * 100))\n",
        "\n",
        "    cf = confusion_matrix(targets, preds, normalize='true')\n",
        "    plt.figure()\n",
        "    sns.heatmap(cf, annot=True)\n",
        "    plt.xlabel('Prediction')\n",
        "    plt.ylabel('Target')\n",
        "    plt.title('{} Confusion Matrix'.format(name))\n",
        "\n",
        "    return preds\n",
        "\n",
        "# Predict and plot on the training data\n",
        "train_preds = predict_and_plot(log_reg, X_train, y_train, 'Train')\n",
        "\n",
        "# Predict and plot on the validation data\n",
        "val_preds = predict_and_plot(log_reg, X_test, y_test, 'Validation')"
      ],
      "metadata": {
        "id": "yWfiYIbqO-TN"
      },
      "execution_count": null,
      "outputs": []
    },
    {
      "cell_type": "markdown",
      "source": [
        "## 3.3.2 | KNN"
      ],
      "metadata": {
        "id": "qq0LHPMYPFdw"
      }
    },
    {
      "cell_type": "code",
      "source": [
        "from sklearn.neighbors import KNeighborsClassifier\n",
        "from sklearn.model_selection import train_test_split\n",
        "from sklearn.metrics import accuracy_score, confusion_matrix\n",
        "\n",
        "# Split the data into training and validation sets\n",
        "X_train, X_val, y_train, y_val = train_test_split(X, y, test_size=0.2, random_state=42)\n",
        "\n",
        "# Create a KNN classifier (you can adjust the number of neighbors 'n_neighbors')\n",
        "knn_model = KNeighborsClassifier(n_neighbors=5)\n",
        "\n",
        "# Fit the KNN model to the training data\n",
        "knn_model.fit(X_train, y_train)\n",
        "\n",
        "# Make predictions on the training data\n",
        "y_train_pred = knn_model.predict(X_train)\n",
        "\n",
        "# Make predictions on the validation data\n",
        "y_val_pred = knn_model.predict(X_val)\n",
        "\n",
        "# Calculate the training and validation accuracies\n",
        "train_accuracy = accuracy_score(y_train, y_train_pred)\n",
        "val_accuracy = accuracy_score(y_val, y_val_pred)\n",
        "\n",
        "print(\"Training Accuracy:\", train_accuracy)\n",
        "print(\"Validation Accuracy:\", val_accuracy)\n",
        "\n",
        "# Create a confusion matrix for validation data\n",
        "confusion = confusion_matrix(y_val, y_val_pred)\n",
        "\n",
        "# Plot the confusion matrix\n",
        "plt.figure(figsize=(6, 4))\n",
        "sns.heatmap(confusion, annot=True, fmt='d', cmap='Blues', cbar=False)\n",
        "plt.xlabel('Predicted')\n",
        "plt.ylabel('Actual')\n",
        "plt.title('Confusion Matrix (Validation)')\n",
        "plt.show()"
      ],
      "metadata": {
        "id": "kM0jrKulPrEp"
      },
      "execution_count": null,
      "outputs": []
    },
    {
      "cell_type": "markdown",
      "source": [
        "<a id=\"3.3.2\"></a>\n",
        "> <span style='font-size:15px; font-family:Verdana;color: #254E58;'><b> Hyperparameter Tuning of KNN </b></span>"
      ],
      "metadata": {
        "id": "lbg0NxbJPzvX"
      }
    },
    {
      "cell_type": "code",
      "source": [
        "from sklearn.neighbors import KNeighborsClassifier\n",
        "from sklearn.model_selection import GridSearchCV\n",
        "from sklearn.metrics import accuracy_score\n",
        "\n",
        "# Define the hyperparameter grid to search\n",
        "param_grid = {\n",
        "    'n_neighbors': [1, 3, 5, 7, 9]  # Adjust the number of neighbors to explore\n",
        "}\n",
        "\n",
        "# Create the KNN classifier\n",
        "knn_model = KNeighborsClassifier()\n",
        "\n",
        "# Perform GridSearchCV for hyperparameter tuning\n",
        "grid_search = GridSearchCV(knn_model, param_grid, cv=5, scoring='accuracy')\n",
        "grid_search.fit(X_train, y_train)\n",
        "\n",
        "# Get the best estimator with tuned hyperparameters\n",
        "best_model = grid_search.best_estimator_\n",
        "\n",
        "# Make predictions on the training data using the best model\n",
        "y_train_pred = best_model.predict(X_train)\n",
        "\n",
        "# Make predictions on the validation data using the best model\n",
        "y_val_pred = best_model.predict(X_val)\n",
        "\n",
        "# Calculate the training and validation accuracies\n",
        "train_accuracy = accuracy_score(y_train, y_train_pred)\n",
        "val_accuracy = accuracy_score(y_val, y_val_pred)\n",
        "\n",
        "print(\"Training Accuracy with Best Hyperparameters:\", train_accuracy)\n",
        "print(\"Validation Accuracy with Best Hyperparameters:\", val_accuracy)"
      ],
      "metadata": {
        "id": "M9lIwFtmQCmv"
      },
      "execution_count": null,
      "outputs": []
    },
    {
      "cell_type": "markdown",
      "source": [
        "## 3.3.3 | Decision Tree"
      ],
      "metadata": {
        "id": "riM4tJoiQF4F"
      }
    },
    {
      "cell_type": "code",
      "source": [
        "from sklearn.tree import DecisionTreeClassifier\n",
        "from sklearn.metrics import accuracy_score\n",
        "\n",
        "# Create the Decision Tree model\n",
        "decision_tree_model = DecisionTreeClassifier(random_state=42)\n",
        "\n",
        "# Fit the model to the training data\n",
        "decision_tree_model.fit(X_train, y_train)\n",
        "\n",
        "# Evaluate the model on the training and validation data\n",
        "train_accuracy = decision_tree_model.score(X_train, y_train)\n",
        "val_accuracy = decision_tree_model.score(X_test, y_test)\n",
        "\n",
        "# Print the results\n",
        "print(\"Training Accuracy:\", train_accuracy)\n",
        "print(\"Validation Accuracy:\", val_accuracy)"
      ],
      "metadata": {
        "id": "14c-ay5zQl4E"
      },
      "execution_count": null,
      "outputs": []
    },
    {
      "cell_type": "markdown",
      "source": [
        "<a id=\"3.3.3\"></a>\n",
        "> <span style='font-size:15px; font-family:Verdana;color: #254E58;'><b> Hyperparameter Tuning Of Decision Tree </b></span>"
      ],
      "metadata": {
        "id": "p9fDhuanQwkF"
      }
    },
    {
      "cell_type": "code",
      "source": [
        "from sklearn.tree import DecisionTreeClassifier\n",
        "from sklearn.model_selection import GridSearchCV\n",
        "\n",
        "param_grid = {\n",
        "    'max_depth': [None, 5, 10, 15, 20],\n",
        "    'min_samples_split': [2, 5, 10, 15, 20, 25],\n",
        "    'min_samples_leaf': [1, 3, 5, 7],\n",
        "    'criterion': ['gini', 'entropy']  # Add criterion hyperparameter\n",
        "}\n",
        "\n",
        "# Create the Decision Tree model\n",
        "decision_tree_model = DecisionTreeClassifier(random_state=42)\n",
        "\n",
        "# Perform GridSearchCV for hyperparameter tuning\n",
        "grid_search = GridSearchCV(decision_tree_model, param_grid, cv=5, n_jobs=-1, scoring='accuracy')\n",
        "grid_search.fit(X_train, y_train)\n",
        "\n",
        "# Get the best estimator with tuned hyperparameters\n",
        "best_model = grid_search.best_estimator_\n",
        "\n",
        "# Fit the final model to the training data\n",
        "best_model.fit(X_train, y_train)\n",
        "\n",
        "# Evaluate the final model on the training and validation data\n",
        "train_accuracy = best_model.score(X_train, y_train)\n",
        "val_accuracy = best_model.score(X_test, y_test)\n",
        "\n",
        "# Print the results\n",
        "print(\"Training Accuracy:\", train_accuracy)\n",
        "print(\"Validation Accuracy:\", val_accuracy)"
      ],
      "metadata": {
        "id": "c6Y3INqfQqQ4"
      },
      "execution_count": null,
      "outputs": []
    },
    {
      "cell_type": "markdown",
      "source": [
        "## 3.3.4 | Random Forest"
      ],
      "metadata": {
        "id": "sGLET3NnRA17"
      }
    },
    {
      "cell_type": "code",
      "source": [
        "from sklearn.ensemble import RandomForestClassifier\n",
        "model_2 = RandomForestClassifier(n_jobs =-1, random_state = 42)\n",
        "model_2.fit(X_train,y_train)"
      ],
      "metadata": {
        "id": "3hKF1sVLREg5"
      },
      "execution_count": null,
      "outputs": []
    },
    {
      "cell_type": "code",
      "source": [
        "model_2.score(X_train,y_train)"
      ],
      "metadata": {
        "id": "sw2U8ZFbRMOo"
      },
      "execution_count": null,
      "outputs": []
    },
    {
      "cell_type": "code",
      "source": [
        "def predict_and_plot(model, inputs,targets, name = ''):\n",
        "    preds = model.predict(inputs)\n",
        "    accuracy = accuracy_score(targets, preds)\n",
        "    print(\"Accuracy: {:.2f}%\".format(accuracy*100))\n",
        "\n",
        "    cf = confusion_matrix(targets, preds, normalize = 'true')\n",
        "    plt.figure()\n",
        "    sns.heatmap(cf, annot = True)\n",
        "    plt.xlabel('Prediction')\n",
        "    plt.ylabel('Target')\n",
        "    plt.title('{} Confusion Matrix'. format(name))\n",
        "\n",
        "    return preds\n",
        "\n",
        "# Predict and plot on the training data\n",
        "train_preds = predict_and_plot(model_2, X_train, y_train, 'Train')\n",
        "\n",
        "# Predict and plot on the validation data\n",
        "val_preds = predict_and_plot(model_2, X_test, y_test, 'Validation')"
      ],
      "metadata": {
        "id": "tqk8CMuHRMjQ"
      },
      "execution_count": null,
      "outputs": []
    },
    {
      "cell_type": "markdown",
      "source": [
        "<a id=\"3.3.4\"></a>\n",
        "> <span style='font-size:15px; font-family:Verdana;color: #254E58;'><b>Hyperparameter Tuning of Random Forest </b></span>"
      ],
      "metadata": {
        "id": "TCS5XiE9RRE1"
      }
    },
    {
      "cell_type": "code",
      "source": [
        "from sklearn.ensemble import RandomForestClassifier\n",
        "from sklearn.model_selection import GridSearchCV\n",
        "from sklearn.ensemble import RandomForestClassifier\n",
        "from sklearn.metrics import accuracy_score\n",
        "\n",
        "param_grid = {\n",
        "    'n_estimators': [10, 20, 30],  # Adjust the number of trees in the forest\n",
        "    'max_depth': [10, 20, 30],  # Adjust the maximum depth of each tree\n",
        "    'min_samples_split': [2, 5, 10, 15, 20],  # Adjust the minimum samples required to split a node\n",
        "    'min_samples_leaf': [1, 2, 4, 6, 8]  # Adjust the minimum samples required in a leaf node\n",
        "}\n",
        "\n",
        "# Create the Random Forest model\n",
        "random_forest_model = RandomForestClassifier(random_state=42, n_jobs=-1)\n",
        "\n",
        "# Perform GridSearchCV for hyperparameter tuning\n",
        "grid_search = GridSearchCV(random_forest_model, param_grid, cv=5, n_jobs=-1, scoring='accuracy')\n",
        "grid_search.fit(X_train, y_train)\n",
        "\n",
        "# Get the best estimator with tuned hyperparameters\n",
        "best_model = grid_search.best_estimator_\n",
        "\n",
        "# Fit the final model to the training data\n",
        "best_model.fit(X_train, y_train)\n",
        "\n",
        "# Evaluate the model on the training and validation data\n",
        "train_accuracy = best_model.score(X_train, y_train)\n",
        "val_accuracy = best_model.score(X_test, y_test)\n",
        "\n",
        "# Print the results\n",
        "print(\"Training Accuracy:\", train_accuracy)\n",
        "print(\"Validation Accuracy:\", val_accuracy)"
      ],
      "metadata": {
        "id": "VF2AQjzJRXIA"
      },
      "execution_count": null,
      "outputs": []
    },
    {
      "cell_type": "markdown",
      "source": [
        "## 3.3.5 | Support Vector Classifier"
      ],
      "metadata": {
        "id": "hy2b4JJwRfNe"
      }
    },
    {
      "cell_type": "code",
      "source": [
        "X_train, X_val, y_train, y_val = train_test_split(X, y, test_size=0.2, random_state=42)\n",
        "\n",
        "svm_model = SVC(kernel='linear')\n",
        "\n",
        "# Fit the SVM model to the training data\n",
        "svm_model.fit(X_train, y_train)\n",
        "\n",
        "# Make predictions on the training data\n",
        "y_train_pred = svm_model.predict(X_train)\n",
        "\n",
        "# Make predictions on the validation data\n",
        "y_val_pred = svm_model.predict(X_val)\n",
        "\n",
        "# Calculate the training accuracy\n",
        "train_accuracy = accuracy_score(y_train, y_train_pred)\n",
        "\n",
        "# Calculate the validation accuracy\n",
        "val_accuracy = accuracy_score(y_val, y_val_pred)\n",
        "\n",
        "print(\"Training Accuracy:\", train_accuracy)\n",
        "print(\"Validation Accuracy:\", val_accuracy)\n",
        "\n",
        "# Create confusion matrices\n",
        "train_confusion = confusion_matrix(y_train, y_train_pred)\n",
        "val_confusion = confusion_matrix(y_val, y_val_pred)\n",
        "\n",
        "# Plot the confusion matrices\n",
        "plt.figure(figsize=(12, 5))\n",
        "plt.subplot(1, 2, 1)\n",
        "sns.heatmap(train_confusion, annot=True, fmt='d', cmap='Blues', cbar=False)\n",
        "plt.xlabel('Predicted')\n",
        "plt.ylabel('Actual')\n",
        "plt.title('Confusion Matrix (Training)')\n",
        "\n",
        "plt.subplot(1, 2, 2)\n",
        "sns.heatmap(val_confusion, annot=True, fmt='d', cmap='Blues', cbar=False)\n",
        "plt.xlabel('Predicted')\n",
        "plt.ylabel('Actual')\n",
        "plt.title('Confusion Matrix (Validation)')\n",
        "plt.show()"
      ],
      "metadata": {
        "id": "BkWxhYzRRpWi"
      },
      "execution_count": null,
      "outputs": []
    },
    {
      "cell_type": "markdown",
      "source": [
        "## 3.3.6 | AdaBoost Classifier"
      ],
      "metadata": {
        "id": "zLENjqZxRuZO"
      }
    },
    {
      "cell_type": "code",
      "source": [
        "from sklearn.ensemble import AdaBoostClassifier\n",
        "from sklearn.metrics import accuracy_score, confusion_matrix\n",
        "\n",
        "# Create an AdaBoost classifier\n",
        "adaboost_model = AdaBoostClassifier(n_estimators=50, random_state=42)\n",
        "\n",
        "# Fit the AdaBoost model to the training data\n",
        "adaboost_model.fit(X_train, y_train)\n",
        "\n",
        "# Make predictions on the training data\n",
        "y_train_pred_adaboost = adaboost_model.predict(X_train)\n",
        "\n",
        "# Make predictions on the validation data\n",
        "y_val_pred_adaboost = adaboost_model.predict(X_val)\n",
        "\n",
        "# Calculate the training accuracy\n",
        "train_accuracy_adaboost = accuracy_score(y_train, y_train_pred_adaboost)\n",
        "\n",
        "# Calculate the validation accuracy\n",
        "val_accuracy_adaboost = accuracy_score(y_val, y_val_pred_adaboost)\n",
        "\n",
        "# Print the training and validation accuracies\n",
        "print(\"AdaBoost Training Accuracy:\", train_accuracy_adaboost)\n",
        "print(\"AdaBoost Validation Accuracy:\", val_accuracy_adaboost)\n",
        "\n",
        "# Create a confusion matrix for validation\n",
        "confusion_adaboost = confusion_matrix(y_val, y_val_pred_adaboost)\n",
        "\n",
        "# Plot the confusion matrix\n",
        "plt.figure()\n",
        "sns.heatmap(confusion_adaboost, annot=True, fmt='d', cmap='Blues', cbar=False)\n",
        "plt.xlabel('Predicted')\n",
        "plt.ylabel('Actual')\n",
        "plt.title('AdaBoost Confusion Matrix (Validation)')\n",
        "plt.show()"
      ],
      "metadata": {
        "id": "F9dlnlC4R4I8"
      },
      "execution_count": null,
      "outputs": []
    },
    {
      "cell_type": "markdown",
      "source": [
        "## 3.3.7 | Gradient Boosting Classifier"
      ],
      "metadata": {
        "id": "ck_j1LatSEkZ"
      }
    },
    {
      "cell_type": "code",
      "source": [
        "from sklearn.ensemble import GradientBoostingClassifier\n",
        "\n",
        "# Create a Gradient Boosting classifier\n",
        "gbm_model = GradientBoostingClassifier(n_estimators=100, max_depth=3, random_state=42)\n",
        "\n",
        "# Fit the GBM model to the training data\n",
        "gbm_model.fit(X_train, y_train)\n",
        "\n",
        "# Make predictions on the training data\n",
        "y_train_pred_gbm = gbm_model.predict(X_train)\n",
        "\n",
        "# Make predictions on the validation data\n",
        "y_val_pred_gbm = gbm_model.predict(X_val)\n",
        "\n",
        "# Calculate the training accuracy\n",
        "train_accuracy_gbm = accuracy_score(y_train, y_train_pred_gbm)\n",
        "\n",
        "# Calculate the validation accuracy\n",
        "val_accuracy_gbm = accuracy_score(y_val, y_val_pred_gbm)\n",
        "\n",
        "# Print the training and validation accuracies\n",
        "print(\"GBM Training Accuracy:\", train_accuracy_gbm)\n",
        "print(\"GBM Validation Accuracy:\", val_accuracy_gbm)"
      ],
      "metadata": {
        "id": "b_ocdLgbSKMe"
      },
      "execution_count": null,
      "outputs": []
    },
    {
      "cell_type": "markdown",
      "source": [
        "## 3.3.8 | XGBoost Classifier"
      ],
      "metadata": {
        "id": "_mSGYWbGSOkg"
      }
    },
    {
      "cell_type": "code",
      "source": [
        "from xgboost import XGBClassifier\n",
        "\n",
        "# Create an XGBoost classifier\n",
        "xgboost_model = XGBClassifier(n_estimators=100, max_depth=3, random_state=42)\n",
        "\n",
        "# Fit the XGBoost model to the training data\n",
        "xgboost_model.fit(X_train, y_train)\n",
        "\n",
        "# Make predictions on the training data\n",
        "y_train_pred_xgboost = xgboost_model.predict(X_train)\n",
        "\n",
        "# Make predictions on the validation data\n",
        "y_val_pred_xgboost = xgboost_model.predict(X_val)\n",
        "\n",
        "# Calculate the training accuracy\n",
        "train_accuracy_xgboost = accuracy_score(y_train, y_train_pred_xgboost)\n",
        "\n",
        "# Calculate the validation accuracy\n",
        "val_accuracy_xgboost = accuracy_score(y_val, y_val_pred_xgboost)\n",
        "\n",
        "# Print the training and validation accuracies\n",
        "print(\"XGBoost Training Accuracy:\", train_accuracy_xgboost)\n",
        "print(\"XGBoost Validation Accuracy:\", val_accuracy_xgboost)"
      ],
      "metadata": {
        "id": "Ix9xwRkNSopG"
      },
      "execution_count": null,
      "outputs": []
    },
    {
      "cell_type": "markdown",
      "source": [
        "<a id=\"3.3.8\"></a>\n",
        "> <span style='font-size:15px; font-family:Verdana;color: #254E58;'><b>Hyperparameter Tuning of XGBoost</b></span>"
      ],
      "metadata": {
        "id": "gl-gSPpSTZG7"
      }
    },
    {
      "cell_type": "code",
      "source": [
        "xgb_model=XGBClassifier(\n",
        "    learning_rate=0.23, max_delta_step=5,\n",
        "    objective='reg:logistic', n_estimators=92,\n",
        "    max_depth=5, eval_metric=\"logloss\", gamma=3, base_score=0.5)\n",
        "\n",
        "xgb_model.fit(X_train, y_train)\n",
        "y_pred = xgb_model.predict(X_test)\n",
        "print(classification_report(y_test, y_pred, digits=2))\n",
        "print(\"Accuracy score of Tuned XGBoost Regression: \", accuracy_score(y_test, y_pred))"
      ],
      "metadata": {
        "id": "xQgCm0-JTiuX"
      },
      "execution_count": null,
      "outputs": []
    },
    {
      "cell_type": "markdown",
      "source": [
        "## 3.3.9 | LightGBM Classifier"
      ],
      "metadata": {
        "id": "Cu9PpxU6TyAF"
      }
    },
    {
      "cell_type": "code",
      "source": [
        "from lightgbm import LGBMClassifier\n",
        "\n",
        "# Create a Gradient Boosting classifier\n",
        "lgbm_model = LGBMClassifier(n_estimators=100, max_depth=3, random_state=42)\n",
        "\n",
        "# Fit the GBM model to the training data\n",
        "lgbm_model.fit(X_train, y_train)\n",
        "\n",
        "# Make predictions on the training data\n",
        "y_train_pred_lgbm = lgbm_model.predict(X_train)\n",
        "\n",
        "# Make predictions on the validation data\n",
        "y_val_pred_lgbm = lgbm_model.predict(X_val)\n",
        "\n",
        "# Calculate the training accuracy\n",
        "train_accuracy_lgbm = accuracy_score(y_train, y_train_pred_lgbm)\n",
        "\n",
        "# Calculate the validation accuracy\n",
        "val_accuracy_lgbm = accuracy_score(y_val, y_val_pred_lgbm)\n",
        "\n",
        "# Print the training and validation accuracies\n",
        "print(\"LightGBM Training Accuracy:\", train_accuracy_lgbm)\n",
        "print(\"LightGBM Validation Accuracy:\", val_accuracy_lgbm)"
      ],
      "metadata": {
        "id": "sTaQ0AXJT_aQ"
      },
      "execution_count": null,
      "outputs": []
    },
    {
      "cell_type": "markdown",
      "source": [
        "<a id=\"3.3.9\"></a>\n",
        "> <span style='font-size:15px; font-family:Verdana;color: #254E58;'><b>Hyperparameter Tuning of LightGBM</b></span>"
      ],
      "metadata": {
        "id": "nWtLFU8jUd0J"
      }
    },
    {
      "cell_type": "code",
      "source": [
        "lgbm_model = LGBMClassifier(\n",
        "    silent = 0, learning_rate = 0.09, max_delta_step = 2,\n",
        "    n_estimators = 100, boosting_type = 'gbdt',\n",
        "    max_depth = 10, eval_metric = \"logloss\",\n",
        "    gamma = 3, base_score = 0.5\n",
        ")\n",
        "\n",
        "lgbm_model.fit(X_train, y_train)\n",
        "y_pred = lgbm_model.predict(X_test)\n",
        "print(classification_report(y_test, y_pred, digits=2))\n",
        "print(\"Accuracy score of tuned LightGBM model: \", accuracy_score(y_test, y_pred))"
      ],
      "metadata": {
        "id": "HSQgJdiMUbJ6"
      },
      "execution_count": null,
      "outputs": []
    },
    {
      "cell_type": "code",
      "source": [
        "training_result = data_training(X_train, X_test, y_train, y_test)\n",
        "training_result"
      ],
      "metadata": {
        "id": "of-ibIHKHGn0"
      },
      "execution_count": null,
      "outputs": []
    },
    {
      "cell_type": "markdown",
      "metadata": {
        "id": "EklwITu7LGnW"
      },
      "source": [
        "# 4. Model Deployment\n",
        "\n",
        "PIC : Kemas"
      ]
    },
    {
      "cell_type": "markdown",
      "metadata": {
        "id": "jt5OcN3mOdmh"
      },
      "source": [
        "## 4.1 Streamlit App"
      ]
    },
    {
      "cell_type": "code",
      "source": [
        "import streamlit as st\n",
        "import streamlit.components.v1 as stc\n",
        "import pickle\n",
        "import pandas as pd\n",
        "import numpy as np\n",
        "\n",
        "with open('model/Random_Forest_model.pkl','rb') as file:\n",
        "    Random_Forest_Model = pickle.load(file)\n",
        "\n",
        "def main():\n",
        "    # stc.html(html_temp)\n",
        "    st.title(\"Customer Churn Prediction App\")\n",
        "    st.caption(\"This app is created by Algowizard Team for Final Project of Data Science Bootcamp\")\n",
        "\n",
        "    menu = [\"Home\",\"Machine Learning\"]\n",
        "    choice = st.sidebar.selectbox(\"Menu\", menu)\n",
        "\n",
        "    if choice == \"Home\":\n",
        "        st.header(\"Home\")\n",
        "        st.caption(\"Aplikasi prediksi churn memanfaatkan pembelajaran mesin dan kecerdasan buatan untuk menganalisis data pelanggan dan mengidentifikasi mereka yang berisiko pergi. Hal ini memungkinkan bisnis untuk secara proaktif melibatkan pelanggan ini dengan intervensi yang ditargetkan dan strategi retensi, meminimalkan churn dan meningkatkan nilai umur pelanggan.\")\n",
        "\n",
        "        st.markdown(\"\"\"\n",
        "            <p style=\"font-size: 16px; font-weight: bold\">Sekilas tentang Dataset yang digunakan</p>\n",
        "            \"\"\", unsafe_allow_html=True)\n",
        "\n",
        "        df = pd.DataFrame(np.random.randn(10, 5), columns=(\"col %d\" % i for i in range(5)))\n",
        "        st.table(df)\n",
        "\n",
        "\n",
        "    elif choice == \"Machine Learning\":\n",
        "        st.header(\"Prediction Model\")\n",
        "        run_ml_app()\n",
        "\n",
        "    col1, col2, col3 = st.columns([1, 10, 1])  # Center column takes up most of the width\n",
        "    with col2:\n",
        "        images = [\"1. Ola.png\", \"2. July.png\", \"3. Faza.png\",\"4. Timmy.png\",\n",
        "              \"5. Kemas.png\", \"6. Eko.png\", \"7. Osha.png\"]\n",
        "        st.image(images, width=80)  # Set width for each image\n",
        "\n",
        "def run_ml_app():\n",
        "    # design = \"\"\"<div style='padding:15px;\">\n",
        "    #                 <h1 style='color:#fff'>Loan Eligibility Prediction</h1>\n",
        "    #             </div>\"\"\"\n",
        "    # st.markdown(design, unsafe_allow_html=True)\n",
        "\n",
        "    st.markdown(\"\"\"\n",
        "    <p style=\"font-size: 16px; font-weight: bold\">Insert Data</p>\n",
        "    \"\"\", unsafe_allow_html=True)\n",
        "\n",
        "    left, right = st.columns((2,2))\n",
        "    gender = left.selectbox('Gender',\n",
        "                            ('Male', 'Female'))\n",
        "    age = left.number_input('Age', 1, 100)\n",
        "    credit_score = left.number_input('Credit Score',0,1000)\n",
        "    estimated_salary = right.number_input('Estimated Salary',0.0,100000000.00)\n",
        "    has_credit_card = right.selectbox('Credit Card',('Yes','No'))\n",
        "\n",
        "    # married = right.selectbox('Married', ('Yes','No'))\n",
        "    # dependent = left.selectbox('Dependents', ('None', 'One', 'Two', 'Three'))\n",
        "    # education = right.selectbox('Education', ('Graduate', 'Non-Graduate'))\n",
        "    # self_employed = left.selectbox('Self-Employed', ('Yes', 'No'))\n",
        "    # applicant_income = right.number_input('Applicant Income')\n",
        "    # coApplicant_income = left.number_input(\n",
        "    #     'Co - Applicant Income')\n",
        "    # loan_amount = right.number_input('Loan Amount')\n",
        "    # loan_amount_term = left.number_input('Loan Tenor (In Months)')\n",
        "    # credit_history = right.number_input('Credit History', 0.0, 1.0)\n",
        "    # property_area = st.selectbox('Property Area', ('Semiurban','Urban', 'Rural'))\n",
        "    button = st.button('Predict')\n",
        "\n",
        "    #if button is clicked (ketika button dipencet)\n",
        "    if button:\n",
        "        #make prediction\n",
        "        result = predict(gender,age,credit_score,estimated_salary,has_credit_card)\n",
        "        if result == 'Eligible':\n",
        "            st.success(f'You are {result} for the loan')\n",
        "        else:\n",
        "            st.warning(f'You are {result} for the loan')\n",
        "\n",
        "\n",
        "def predict(gender,age,credit_score,estimated_salary,has_credit_card):\n",
        "    #processing user input\n",
        "    gen = 0 if gender == 'Male' else 1\n",
        "    cre = 0 if has_credit_card == 'No' else 1\n",
        "    # mar = 0 if married == 'Yes' else 1\n",
        "    # dep = float(0 if dependent == 'None' else 1 if dependent == 'One' else 2 if dependent == 'Two' else 3)\n",
        "    # edu = 0 if education == 'Graduate' else 1\n",
        "    # sem = 0 if self_employed == 'Yes' else 1\n",
        "    # pro = 0 if property_area == 'Semiurban' else 1 if property_area == 'Urban' else 2\n",
        "    # lam = loan_amount/1000\n",
        "    # cap = coApplicant_income / 1000\n",
        "\n",
        "    #Making prediction\n",
        "    prediction = Random_Forest_Model.predict([[gen, cre, age, credit_score,\n",
        "                                               estimated_salary]])\n",
        "    result = 'Stayed' if prediction == 0 else 'Exited'\n",
        "\n",
        "    return result\n",
        "\n",
        "if __name__ == \"__main__\":\n",
        "    main()"
      ],
      "metadata": {
        "id": "nAB6PMTD0i3-"
      },
      "execution_count": null,
      "outputs": []
    }
  ],
  "metadata": {
    "colab": {
      "provenance": [],
      "collapsed_sections": [
        "WCckyQhJLZLi"
      ],
      "toc_visible": true
    },
    "kernelspec": {
      "display_name": "Python 3",
      "name": "python3"
    },
    "language_info": {
      "name": "python"
    }
  },
  "nbformat": 4,
  "nbformat_minor": 0
}